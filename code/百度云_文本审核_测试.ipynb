{
 "cells": [
  {
   "cell_type": "code",
   "execution_count": 8,
   "metadata": {},
   "outputs": [],
   "source": [
    "from aip import AipImageCensor\n",
    "\n",
    "\"\"\" 你的 APPID AK SK \"\"\"\n",
    "APP_ID = ''\n",
    "API_KEY = ''\n",
    "SECRET_KEY = ''\n",
    "\n",
    "client = AipImageCensor(APP_ID, API_KEY, SECRET_KEY)"
   ]
  },
  {
   "cell_type": "code",
   "execution_count": 37,
   "metadata": {},
   "outputs": [],
   "source": [
    "text_dict={ 1:\"暴恐违禁\",2:\"文本色情\",3:\"政治敏感\",4:\"恶意推广\",5:\"低俗辱骂\",6:\"低质灌水\"}"
   ]
  },
  {
   "cell_type": "code",
   "execution_count": 9,
   "metadata": {
    "collapsed": true
   },
   "outputs": [],
   "source": [
    "text=\"添加wx145246214654\""
   ]
  },
  {
   "cell_type": "code",
   "execution_count": 68,
   "metadata": {},
   "outputs": [],
   "source": [
    "result=client.antiSpam('上床,脱衣舞,视频')"
   ]
  },
  {
   "cell_type": "code",
   "execution_count": 63,
   "metadata": {},
   "outputs": [],
   "source": [
    "result=client.antiSpam('我喜欢云')"
   ]
  },
  {
   "cell_type": "code",
   "execution_count": 71,
   "metadata": {},
   "outputs": [
    {
     "name": "stdout",
     "output_type": "stream",
     "text": [
      "文本审核未通过的原因是涉及\"文本色情\",违禁检测分有:\"97.60%\",违禁词集合有['脱衣 视频']\n",
      "文本审核后,未涉及\"暴恐违禁\",其违禁检测分只有:\"0.10%\",违禁词集合有[]\n",
      "文本审核后,未涉及\"政治敏感\",其违禁检测分只有:\"0.00%\",违禁词集合有[]\n",
      "文本审核后,未涉及\"恶意推广\",其违禁检测分只有:\"34.14%\",违禁词集合有[]\n",
      "文本审核后,未涉及\"低俗辱骂\",其违禁检测分只有:\"0.50%\",违禁词集合有[]\n"
     ]
    }
   ],
   "source": [
    "if result['result']['spam'] == 1:\n",
    "    for i in range(len(result['result']['reject'])):\n",
    "        reject_type = text_dict[result['result']['reject'][i]['label']]\n",
    "        reject_sore = '{:.2f}%'.format(result['result']['reject'][i]['score']*100)\n",
    "        reject_hit = result['result']['reject'][i]['hit']\n",
    "        print (\"文本审核未通过的原因是涉及\\\"\"+reject_type +\"\\\",违禁检测分有:\\\"\"+reject_sore+\"\\\",违禁词集合有\"+str(reject_hit))\n",
    "    for x in range(len(result['result']['pass'])):\n",
    "        pass_type = text_dict[result['result']['pass'][x]['label']]\n",
    "        pass_sore = '{:.2f}%'.format(result['result']['pass'][x]['score']*100)\n",
    "        pass_hit = result['result']['pass'][x]['hit']\n",
    "        print (\"文本审核后,未涉及\\\"\"+pass_type +\"\\\",其违禁检测分只有:\\\"\"+pass_sore+\"\\\",违禁词集合有\"+str(pass_hit))\n",
    "elif result['result']['spam'] == 2:\n",
    "    for i in range(len(result['result']['review'])):\n",
    "        review_type = text_dict[result['result']['review'][i]['label']]\n",
    "        review_sore = '{:.2f}%'.format(result['result']['review'][i]['score']*100)\n",
    "        review_hit = result['result']['review'][i]['hit']\n",
    "        print (\"文本需要人工复审的原因是涉及\\\"\"+review_type +\"\\\",违禁检测分有:\\\"\"+review_sore+\"\\\",违禁词集合有\"+str(review_hit))\n",
    "    for x in range(len(result['result']['pass'])):\n",
    "        pass_type = text_dict[result['result']['pass'][x]['label']]\n",
    "        pass_sore = '{:.2f}%'.format(result['result']['pass'][x]['score']*100)\n",
    "        pass_hit = result['result']['pass'][x]['hit']\n",
    "        print (\"文本审核通过了\\\"\"+pass_type +\"\\\",其违禁检测分只有:\\\"\"+pass_sore+\"\\\",违禁词集合有\"+str(pass_hit))\n",
    "elif result['result']['spam'] == 0:\n",
    "    for x in range(len(result['result']['pass'])):\n",
    "        pass_type = text_dict[result['result']['pass'][x]['label']]\n",
    "        pass_sore = '{:.2f}%'.format(result['result']['pass'][x]['score']*100)\n",
    "        pass_hit = result['result']['pass'][x]['hit']\n",
    "        print (\"文本审核后,未涉及\\\"\"+pass_type +\"\\\",其违禁检测分只有:\\\"\"+pass_sore+\"\\\",违禁词集合有\"+str(pass_hit))"
   ]
  },
  {
   "cell_type": "code",
   "execution_count": null,
   "metadata": {
    "collapsed": true
   },
   "outputs": [],
   "source": []
  }
 ],
 "metadata": {
  "kernelspec": {
   "display_name": "Python 3",
   "language": "python",
   "name": "python3"
  },
  "language_info": {
   "codemirror_mode": {
    "name": "ipython",
    "version": 3
   },
   "file_extension": ".py",
   "mimetype": "text/x-python",
   "name": "python",
   "nbconvert_exporter": "python",
   "pygments_lexer": "ipython3",
   "version": "3.6.2"
  }
 },
 "nbformat": 4,
 "nbformat_minor": 2
}
